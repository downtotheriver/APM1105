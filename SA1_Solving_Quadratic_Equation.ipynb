{
 "cells": [
  {
   "cell_type": "code",
   "execution_count": 1,
   "id": "98f3506d",
   "metadata": {},
   "outputs": [
    {
     "name": "stdout",
     "output_type": "stream",
     "text": [
      "Find the solution to the equation x^3 + 5x = 20 using the initial value x[0] = 2, giving the answer to 3 decimal places using iteration.\n",
      "\n",
      "Solution:\n",
      "x[0] = 2\n",
      "x[1] = 2.154\n",
      "x[2] = 2.098\n",
      "x[3] = 2.119\n",
      "x[4] = 2.111\n",
      "x[5] = 2.114\n",
      "x[6] = 2.113\n",
      "x[7] = 2.113\n",
      "\n",
      "The solution to the equation x^3 + 5x = 20 is when x = 2.113."
     ]
    }
   ],
   "source": [
    "def iteration(initial_value):\n",
    "    x_values = [initial_value]  # Initialize the list with initial_value\n",
    "    i = 0\n",
    "    while True:\n",
    "        value = x_values[-1]  # Get the last value added to the list\n",
    "        if x_values.count(value) == 1:\n",
    "            current_value = pow(20-(5*initial_value), 1/3)\n",
    "            rounded_current_value = round(current_value, 3)\n",
    "            initial_value = rounded_current_value\n",
    "            x_values.append(rounded_current_value)\n",
    "            i += 1\n",
    "        elif x_values.count(value) > 1:\n",
    "            place = 0\n",
    "            print(\"\\nSolution:\")\n",
    "            while place <= i:\n",
    "                print(\"x[\" + str(place) + \"] =\", x_values[place])\n",
    "                place += 1\n",
    "            print(\"\\nThe solution to the equation x^3 + 5x = 20 is when x =\", value, end=\".\")\n",
    "            return\n",
    "\n",
    "initial_value = 2\n",
    "print(\"Find the solution to the equation x^3 + 5x = 20 using the initial value x[0] = 2, giving the answer to 3 decimal places using iteration.\")\n",
    "iteration(initial_value)\n"
   ]
  },
  {
   "cell_type": "code",
   "execution_count": null,
   "id": "45310346",
   "metadata": {},
   "outputs": [],
   "source": []
  }
 ],
 "metadata": {
  "kernelspec": {
   "display_name": "Python 3 (ipykernel)",
   "language": "python",
   "name": "python3"
  },
  "language_info": {
   "codemirror_mode": {
    "name": "ipython",
    "version": 3
   },
   "file_extension": ".py",
   "mimetype": "text/x-python",
   "name": "python",
   "nbconvert_exporter": "python",
   "pygments_lexer": "ipython3",
   "version": "3.9.13"
  }
 },
 "nbformat": 4,
 "nbformat_minor": 5
}
