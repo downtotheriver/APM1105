{
 "cells": [
  {
   "cell_type": "code",
   "execution_count": 67,
   "id": "1ca5718e",
   "metadata": {},
   "outputs": [
    {
     "name": "stdout",
     "output_type": "stream",
     "text": [
      "rank                       AssocProf   AsstProf        Prof\n",
      "Valid                         13.000     19.000      46.000\n",
      "Missing                        0.000      0.000       0.000\n",
      "Median                    103613.000  78500.000  123321.500\n",
      "Mean                       91786.231  81362.789  123624.804\n",
      "Std. Error of Mean          5150.720   2152.205    3663.975\n",
      "Std. Deviation             18571.184   9381.245   24850.288\n",
      "Coefficient of Variation       0.202      0.115       0.201\n",
      "Skewness                      -0.151      0.031       0.070\n",
      "Std. Error of Skewness         0.398      0.475       0.416\n",
      "Kurtosis                      -1.614     -1.011       0.201\n",
      "Std. Error of Kurtosis         1.359      1.124       0.722\n",
      "Minimum                    62884.000  63100.000   57800.000\n",
      "Maximum                   119800.000  97032.000  186960.000\n",
      "25th percentile            74830.000  74096.000  105112.500\n",
      "50th percentile           103613.000  78500.000  123321.500\n",
      "75th percentile           104542.000  91150.000  143512.250\n",
      "10th percentile            71512.000  72500.000   93675.000\n",
      "20th percentile            73912.000  73300.000  103275.000\n",
      "30th percentile            76432.000  74832.800  108473.000\n",
      "40th percentile            80528.000  77100.000  116450.000\n",
      "60th percentile           103798.800  84045.000  127512.000\n",
      "70th percentile           104213.200  89800.000  135889.000\n",
      "80th percentile           106021.600  91580.000  148750.000\n",
      "90th percentile           109121.600  92000.000  154750.000\n"
     ]
    }
   ],
   "source": [
    "import pandas as pd\n",
    "import numpy as np\n",
    "from scipy.stats import kurtosis, sem\n",
    "\n",
    "# Load data into a pandas dataframe\n",
    "df = pd.read_csv(\"https://raw.githubusercontent.com/Apress/data-analysis-and-visualization-using-python/master/Ch07/Salaries.csv\")\n",
    "\n",
    "def se_kurtosis(x):\n",
    "    n = len(x)\n",
    "    se = np.sqrt(24/n)\n",
    "    return se\n",
    "\n",
    "\n",
    "# Calculate descriptive statistics for each rank\n",
    "stats = pd.DataFrame({\n",
    "    'Valid': df.groupby('rank')['salary'].count(),\n",
    "    'Missing': 0,\n",
    "    'Median': df.groupby('rank')['salary'].median(),\n",
    "    'Mean': df.groupby('rank')['salary'].mean(),\n",
    "    'Std. Error of Mean': df.groupby('rank')['salary'].sem(),\n",
    "    'Std. Deviation': df.groupby('rank')['salary'].std(),\n",
    "    'Coefficient of Variation': df.groupby('rank')['salary'].apply(lambda x: x.std() / x.mean()),\n",
    "    'Skewness': df.groupby('rank')['salary'].apply(pd.DataFrame.skew),\n",
    "    'Std. Error of Skewness': df.groupby('rank')['salary'].apply(lambda x: skewtest(x)[1] / 2),\n",
    "    'Kurtosis': df.groupby('rank')['salary'].apply(pd.DataFrame.kurtosis),\n",
    "    'Std. Error of Kurtosis': df.groupby('rank')['salary'].apply(se_kurtosis),\n",
    "    'Minimum': df.groupby('rank')['salary'].min(),\n",
    "    'Maximum': df.groupby('rank')['salary'].max(),\n",
    "    '25th percentile': df.groupby('rank')['salary'].quantile(0.25),\n",
    "    '50th percentile': df.groupby('rank')['salary'].quantile(0.5),\n",
    "    '75th percentile': df.groupby('rank')['salary'].quantile(0.75),\n",
    "    '10th percentile': df.groupby('rank')['salary'].quantile(0.1),\n",
    "    '20th percentile': df.groupby('rank')['salary'].quantile(0.2),\n",
    "    '30th percentile': df.groupby('rank')['salary'].quantile(0.3),\n",
    "    '40th percentile': df.groupby('rank')['salary'].quantile(0.4),\n",
    "    '60th percentile': df.groupby('rank')['salary'].quantile(0.6),\n",
    "    '70th percentile': df.groupby('rank')['salary'].quantile(0.7),\n",
    "    '80th percentile': df.groupby('rank')['salary'].quantile(0.8),\n",
    "    '90th percentile': df.groupby('rank')['salary'].quantile(0.9)\n",
    "    \n",
    "})\n",
    "stats = stats.round(3)\n",
    "stats_transposed = stats.transpose()\n",
    "print(stats_transposed)\n"
   ]
  },
  {
   "cell_type": "code",
   "execution_count": null,
   "id": "737f49c3",
   "metadata": {},
   "outputs": [],
   "source": []
  }
 ],
 "metadata": {
  "kernelspec": {
   "display_name": "Python 3 (ipykernel)",
   "language": "python",
   "name": "python3"
  },
  "language_info": {
   "codemirror_mode": {
    "name": "ipython",
    "version": 3
   },
   "file_extension": ".py",
   "mimetype": "text/x-python",
   "name": "python",
   "nbconvert_exporter": "python",
   "pygments_lexer": "ipython3",
   "version": "3.9.13"
  }
 },
 "nbformat": 4,
 "nbformat_minor": 5
}
